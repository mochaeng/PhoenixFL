{
 "cells": [
  {
   "cell_type": "code",
   "execution_count": 1,
   "metadata": {},
   "outputs": [],
   "source": [
    "import pandas as pd\n",
    "from typing import List, Tuple"
   ]
  },
  {
   "cell_type": "code",
   "execution_count": 51,
   "metadata": {},
   "outputs": [],
   "source": [
    "file_extension = \"parquet\"\n",
    "CLIENTS_PATH: List[Tuple[str, str]] = [\n",
    "    (\"client-1: ToN\", f\"NF-TON-IOT-V2.{file_extension}\"),\n",
    "    (\"client-2: BoT\", f\"NF-BOT-IOT-V2.{file_extension}\"),\n",
    "    (\"client-3: UNSW\", f\"NF-UNSW-NB15-V2.{file_extension}\"),\n",
    "    (\"client-4: CSE\", f\"NF-CSE-CIC-IDS2018-V2.{file_extension}\"),\n",
    "    (\"centralized\", f\"centralized.{file_extension}\"),\n",
    "]\n",
    "\n",
    "# path_to_datasets = \"../pre-processed/train-test\"\n",
    "path_to_datasets = \"../popoola\"\n",
    "client_name, file_name = CLIENTS_PATH[0]\n",
    "# name = file_name.split(\".\")[0]\n",
    "\n",
    "df = pd.read_parquet(f\"{path_to_datasets}/{file_name}\", engine=\"pyarrow\")\n",
    "#df = pd.read_csv(f\"{path_to_datasets}/{file_name}\")\n",
    "# centralized_train_df = pd.read_parquet(f\"{path_to_datasets}/centralized/{name}_train.parquet\")"
   ]
  },
  {
   "cell_type": "code",
   "execution_count": 52,
   "metadata": {},
   "outputs": [
    {
     "data": {
      "text/html": [
       "<div>\n",
       "<style scoped>\n",
       "    .dataframe tbody tr th:only-of-type {\n",
       "        vertical-align: middle;\n",
       "    }\n",
       "\n",
       "    .dataframe tbody tr th {\n",
       "        vertical-align: top;\n",
       "    }\n",
       "\n",
       "    .dataframe thead th {\n",
       "        text-align: right;\n",
       "    }\n",
       "</style>\n",
       "<table border=\"1\" class=\"dataframe\">\n",
       "  <thead>\n",
       "    <tr style=\"text-align: right;\">\n",
       "      <th></th>\n",
       "      <th>IPV4_SRC_ADDR</th>\n",
       "      <th>L4_SRC_PORT</th>\n",
       "      <th>IPV4_DST_ADDR</th>\n",
       "      <th>L4_DST_PORT</th>\n",
       "      <th>PROTOCOL</th>\n",
       "      <th>L7_PROTO</th>\n",
       "      <th>IN_BYTES</th>\n",
       "      <th>IN_PKTS</th>\n",
       "      <th>OUT_BYTES</th>\n",
       "      <th>OUT_PKTS</th>\n",
       "      <th>...</th>\n",
       "      <th>TCP_WIN_MAX_IN</th>\n",
       "      <th>TCP_WIN_MAX_OUT</th>\n",
       "      <th>ICMP_TYPE</th>\n",
       "      <th>ICMP_IPV4_TYPE</th>\n",
       "      <th>DNS_QUERY_ID</th>\n",
       "      <th>DNS_QUERY_TYPE</th>\n",
       "      <th>DNS_TTL_ANSWER</th>\n",
       "      <th>FTP_COMMAND_RET_CODE</th>\n",
       "      <th>Label</th>\n",
       "      <th>Attack</th>\n",
       "    </tr>\n",
       "  </thead>\n",
       "  <tbody>\n",
       "    <tr>\n",
       "      <th>160347</th>\n",
       "      <td>192.168.1.34</td>\n",
       "      <td>63314</td>\n",
       "      <td>192.168.1.193</td>\n",
       "      <td>4899</td>\n",
       "      <td>6</td>\n",
       "      <td>0.0</td>\n",
       "      <td>44</td>\n",
       "      <td>1</td>\n",
       "      <td>40</td>\n",
       "      <td>1</td>\n",
       "      <td>...</td>\n",
       "      <td>1024</td>\n",
       "      <td>0</td>\n",
       "      <td>0</td>\n",
       "      <td>0</td>\n",
       "      <td>0</td>\n",
       "      <td>0</td>\n",
       "      <td>0</td>\n",
       "      <td>0</td>\n",
       "      <td>0</td>\n",
       "      <td>Benign</td>\n",
       "    </tr>\n",
       "    <tr>\n",
       "      <th>208744</th>\n",
       "      <td>192.168.1.30</td>\n",
       "      <td>40794</td>\n",
       "      <td>192.168.1.195</td>\n",
       "      <td>5500</td>\n",
       "      <td>6</td>\n",
       "      <td>0.0</td>\n",
       "      <td>44</td>\n",
       "      <td>1</td>\n",
       "      <td>0</td>\n",
       "      <td>0</td>\n",
       "      <td>...</td>\n",
       "      <td>1024</td>\n",
       "      <td>0</td>\n",
       "      <td>0</td>\n",
       "      <td>0</td>\n",
       "      <td>0</td>\n",
       "      <td>0</td>\n",
       "      <td>0</td>\n",
       "      <td>0</td>\n",
       "      <td>0</td>\n",
       "      <td>Benign</td>\n",
       "    </tr>\n",
       "    <tr>\n",
       "      <th>364574</th>\n",
       "      <td>192.168.1.31</td>\n",
       "      <td>47336</td>\n",
       "      <td>192.168.1.193</td>\n",
       "      <td>513</td>\n",
       "      <td>6</td>\n",
       "      <td>0.0</td>\n",
       "      <td>44</td>\n",
       "      <td>1</td>\n",
       "      <td>0</td>\n",
       "      <td>0</td>\n",
       "      <td>...</td>\n",
       "      <td>1024</td>\n",
       "      <td>0</td>\n",
       "      <td>0</td>\n",
       "      <td>0</td>\n",
       "      <td>0</td>\n",
       "      <td>0</td>\n",
       "      <td>0</td>\n",
       "      <td>0</td>\n",
       "      <td>0</td>\n",
       "      <td>Benign</td>\n",
       "    </tr>\n",
       "    <tr>\n",
       "      <th>368983</th>\n",
       "      <td>192.168.1.32</td>\n",
       "      <td>52722</td>\n",
       "      <td>192.168.1.169</td>\n",
       "      <td>5700</td>\n",
       "      <td>6</td>\n",
       "      <td>7.0</td>\n",
       "      <td>491</td>\n",
       "      <td>4</td>\n",
       "      <td>224</td>\n",
       "      <td>2</td>\n",
       "      <td>...</td>\n",
       "      <td>29200</td>\n",
       "      <td>65535</td>\n",
       "      <td>0</td>\n",
       "      <td>0</td>\n",
       "      <td>0</td>\n",
       "      <td>0</td>\n",
       "      <td>0</td>\n",
       "      <td>0</td>\n",
       "      <td>0</td>\n",
       "      <td>Benign</td>\n",
       "    </tr>\n",
       "    <tr>\n",
       "      <th>72885</th>\n",
       "      <td>192.168.1.31</td>\n",
       "      <td>62691</td>\n",
       "      <td>192.168.1.190</td>\n",
       "      <td>6692</td>\n",
       "      <td>6</td>\n",
       "      <td>0.0</td>\n",
       "      <td>44</td>\n",
       "      <td>1</td>\n",
       "      <td>40</td>\n",
       "      <td>1</td>\n",
       "      <td>...</td>\n",
       "      <td>1024</td>\n",
       "      <td>0</td>\n",
       "      <td>0</td>\n",
       "      <td>0</td>\n",
       "      <td>0</td>\n",
       "      <td>0</td>\n",
       "      <td>0</td>\n",
       "      <td>0</td>\n",
       "      <td>0</td>\n",
       "      <td>Benign</td>\n",
       "    </tr>\n",
       "  </tbody>\n",
       "</table>\n",
       "<p>5 rows × 45 columns</p>\n",
       "</div>"
      ],
      "text/plain": [
       "       IPV4_SRC_ADDR  L4_SRC_PORT  IPV4_DST_ADDR  L4_DST_PORT  PROTOCOL  \\\n",
       "160347  192.168.1.34        63314  192.168.1.193         4899         6   \n",
       "208744  192.168.1.30        40794  192.168.1.195         5500         6   \n",
       "364574  192.168.1.31        47336  192.168.1.193          513         6   \n",
       "368983  192.168.1.32        52722  192.168.1.169         5700         6   \n",
       "72885   192.168.1.31        62691  192.168.1.190         6692         6   \n",
       "\n",
       "        L7_PROTO  IN_BYTES  IN_PKTS  OUT_BYTES  OUT_PKTS  ...  TCP_WIN_MAX_IN  \\\n",
       "160347       0.0        44        1         40         1  ...            1024   \n",
       "208744       0.0        44        1          0         0  ...            1024   \n",
       "364574       0.0        44        1          0         0  ...            1024   \n",
       "368983       7.0       491        4        224         2  ...           29200   \n",
       "72885        0.0        44        1         40         1  ...            1024   \n",
       "\n",
       "        TCP_WIN_MAX_OUT  ICMP_TYPE  ICMP_IPV4_TYPE  DNS_QUERY_ID  \\\n",
       "160347                0          0               0             0   \n",
       "208744                0          0               0             0   \n",
       "364574                0          0               0             0   \n",
       "368983            65535          0               0             0   \n",
       "72885                 0          0               0             0   \n",
       "\n",
       "        DNS_QUERY_TYPE  DNS_TTL_ANSWER  FTP_COMMAND_RET_CODE  Label  Attack  \n",
       "160347               0               0                     0      0  Benign  \n",
       "208744               0               0                     0      0  Benign  \n",
       "364574               0               0                     0      0  Benign  \n",
       "368983               0               0                     0      0  Benign  \n",
       "72885                0               0                     0      0  Benign  \n",
       "\n",
       "[5 rows x 45 columns]"
      ]
     },
     "execution_count": 52,
     "metadata": {},
     "output_type": "execute_result"
    }
   ],
   "source": [
    "df.head()"
   ]
  },
  {
   "cell_type": "code",
   "execution_count": 53,
   "metadata": {},
   "outputs": [
    {
     "data": {
      "text/plain": [
       "132647"
      ]
     },
     "execution_count": 53,
     "metadata": {},
     "output_type": "execute_result"
    }
   ],
   "source": [
    "df = df.drop(\n",
    "    columns=[\"IPV4_SRC_ADDR\", \"L4_SRC_PORT\", \"IPV4_DST_ADDR\", \"L4_DST_PORT\", \"Attack\"]\n",
    ")\n",
    "\n",
    "df.duplicated().sum()"
   ]
  },
  {
   "cell_type": "code",
   "execution_count": 48,
   "metadata": {},
   "outputs": [],
   "source": [
    "#df[\"Attack\"].value_counts(normalize=True)"
   ]
  },
  {
   "cell_type": "code",
   "execution_count": 54,
   "metadata": {},
   "outputs": [
    {
     "data": {
      "text/plain": [
       "Label\n",
       "1    0.746913\n",
       "0    0.253087\n",
       "Name: proportion, dtype: float64"
      ]
     },
     "execution_count": 54,
     "metadata": {},
     "output_type": "execute_result"
    }
   ],
   "source": [
    "df[\"Label\"].value_counts(normalize=True)"
   ]
  },
  {
   "cell_type": "code",
   "execution_count": 11,
   "metadata": {},
   "outputs": [
    {
     "data": {
      "text/plain": [
       "Attack\n",
       "Benign                      99813\n",
       "DDOS attack-HOIC             6485\n",
       "DoS attacks-Hulk             2596\n",
       "DDoS attacks-LOIC-HTTP       1844\n",
       "Bot                           859\n",
       "Infilteration                 698\n",
       "SSH-Bruteforce                570\n",
       "DoS attacks-GoldenEye         166\n",
       "FTP-BruteForce                155\n",
       "DoS attacks-SlowHTTPTest       85\n",
       "DoS attacks-Slowloris          57\n",
       "Brute Force -Web               13\n",
       "DDOS attack-LOIC-UDP           13\n",
       "Brute Force -XSS                5\n",
       "SQL Injection                   2\n",
       "Name: count, dtype: int64"
      ]
     },
     "execution_count": 11,
     "metadata": {},
     "output_type": "execute_result"
    }
   ],
   "source": [
    "df[\"Attack\"].value_counts()"
   ]
  }
 ],
 "metadata": {
  "kernelspec": {
   "display_name": "venv",
   "language": "python",
   "name": "python3"
  },
  "language_info": {
   "codemirror_mode": {
    "name": "ipython",
    "version": 3
   },
   "file_extension": ".py",
   "mimetype": "text/x-python",
   "name": "python",
   "nbconvert_exporter": "python",
   "pygments_lexer": "ipython3",
   "version": "3.10.12"
  }
 },
 "nbformat": 4,
 "nbformat_minor": 2
}
